{
 "cells": [
  {
   "cell_type": "code",
   "execution_count": 42,
   "metadata": {},
   "outputs": [],
   "source": [
    "import pandas as pd\n",
    "import numpy as np\n",
    "import sklearn\n",
    "\n",
    "data = pd.read_csv(\"training_ccpp_x_y_train.csv\")\n",
    "X_train = data.iloc[:,0:4]\n",
    "y_train = data.iloc[:,4]\n",
    "X_test = pd.read_csv(\"test_ccpp_x_test.csv\",header=None)\n",
    "X_test.columns = X_train.columns\n",
    "X_test[\"Aux\"] = np.ones((X_test.shape[0]))\n",
    "X_train[\"Aux\"] = np.ones((X_train.shape[0]))"
   ]
  },
  {
   "cell_type": "code",
   "execution_count": 43,
   "metadata": {},
   "outputs": [
    {
     "data": {
      "text/plain": [
       "array([[8.58000e+00, 3.83800e+01, 1.02103e+03, 8.43700e+01, 1.00000e+00],\n",
       "       [2.17900e+01, 5.82000e+01, 1.01721e+03, 6.67400e+01, 1.00000e+00],\n",
       "       [1.66400e+01, 4.89200e+01, 1.01155e+03, 7.87600e+01, 1.00000e+00],\n",
       "       ...,\n",
       "       [2.98000e+01, 6.93400e+01, 1.00936e+03, 6.47400e+01, 1.00000e+00],\n",
       "       [1.63700e+01, 5.43000e+01, 1.01794e+03, 6.36300e+01, 1.00000e+00],\n",
       "       [3.01100e+01, 6.20400e+01, 1.01069e+03, 4.79600e+01, 1.00000e+00]])"
      ]
     },
     "execution_count": 43,
     "metadata": {},
     "output_type": "execute_result"
    }
   ],
   "source": [
    "X_train.values"
   ]
  },
  {
   "cell_type": "code",
   "execution_count": 44,
   "metadata": {},
   "outputs": [
    {
     "data": {
      "text/plain": [
       "array([482.26, 446.94, 452.56, ..., 437.65, 459.97, 444.42])"
      ]
     },
     "execution_count": 44,
     "metadata": {},
     "output_type": "execute_result"
    }
   ],
   "source": [
    "y_train.values"
   ]
  },
  {
   "cell_type": "code",
   "execution_count": 45,
   "metadata": {},
   "outputs": [
    {
     "data": {
      "text/plain": [
       "(2392, 5)"
      ]
     },
     "execution_count": 45,
     "metadata": {},
     "output_type": "execute_result"
    }
   ],
   "source": [
    "X_test.shape"
   ]
  },
  {
   "cell_type": "code",
   "execution_count": 53,
   "metadata": {},
   "outputs": [],
   "source": [
    "def step_gradient(X_train,y_train,m,learning_rate):\n",
    "    M = len(X_train)\n",
    "    m_slope = np.zeros((X_train.shape[1]))\n",
    "    for i in range(M):\n",
    "        x = X_train[i]\n",
    "        y = y_train[i]\n",
    "        for j in range(X_train.shape[1]):\n",
    "            m_slope[j] += (-2/M)* (y - sum(m*x))*x[j]\n",
    "            m[j]=m[j]-learning_rate*m_slope[j]\n",
    "    m = m - learning_rate*m_slope\n",
    "    return m"
   ]
  },
  {
   "cell_type": "code",
   "execution_count": 54,
   "metadata": {},
   "outputs": [],
   "source": [
    "def cost_function(X_train,y_train,m):\n",
    "    cost = 0\n",
    "    M = len(X_train)\n",
    "    for i in range(len(data)):\n",
    "        cost += (y_train[i]-(m*X_train[i]).sum())**2\n",
    "    return cost/M"
   ]
  },
  {
   "cell_type": "code",
   "execution_count": 55,
   "metadata": {},
   "outputs": [
    {
     "name": "stdout",
     "output_type": "stream",
     "text": [
      "Cost:  2852.152495311375\n",
      "Cost:  56.104293037012354\n",
      "Cost:  50.13190084468075\n",
      "Cost:  42.211370529642565\n",
      "Cost:  39.51643031447052\n",
      "Cost:  38.04402761208195\n",
      "Cost:  37.035851552524534\n",
      "Cost:  36.22538378186825\n",
      "Cost:  35.52019891049817\n",
      "Cost:  34.88400247751753\n",
      "Cost:  34.300387959808546\n",
      "Cost:  33.76063010519485\n",
      "Cost:  33.25931486693871\n",
      "Cost:  32.792627013834476\n",
      "Cost:  32.35760984150208\n",
      "Cost:  31.951814008191917\n",
      "Cost:  31.573117700758925\n",
      "Cost:  31.219628818658425\n",
      "Cost:  30.889628990598574\n",
      "Cost:  30.58153988543211\n",
      "Cost:  30.293901772948065\n",
      "Cost:  30.025358981062503\n",
      "Cost:  29.77464933184765\n",
      "Cost:  29.540595943396262\n",
      "Cost:  29.322100495994956\n",
      "Cost:  29.118137453412565\n",
      "Cost:  28.927748947514885\n",
      "Cost:  28.75004015553422\n",
      "Cost:  28.58417506731625\n",
      "Cost:  28.429372577720528\n",
      "Cost:  28.28490286140879\n",
      "Cost:  28.15008399933771\n",
      "Cost:  28.024278834045543\n",
      "Cost:  27.906892034884436\n",
      "Cost:  27.797367357670716\n",
      "Cost:  27.695185084708534\n",
      "Cost:  27.59985963292741\n",
      "Cost:  27.510937318784507\n",
      "Cost:  27.42799426942187\n",
      "Cost:  27.350634470577194\n",
      "Cost:  27.278487942022696\n",
      "Cost:  27.211209032467167\n",
      "Cost:  27.148474825852713\n",
      "Cost:  27.089983651865055\n",
      "Cost:  27.03545369389353\n",
      "Cost:  26.9846216879106\n",
      "Cost:  26.93724170656023\n",
      "Cost:  26.893084022661306\n",
      "Cost:  26.85193404708912\n",
      "Cost:  26.813591336127036\n",
      "Cost:  26.777868663732384\n",
      "Cost:  26.744591154486915\n",
      "Cost:  26.713595473333466\n",
      "Cost:  26.684729068216924\n",
      "Cost:  26.65784946240734\n",
      "Cost:  26.632823593023783\n",
      "Cost:  26.6095271929556\n",
      "Cost:  26.587844213156753\n",
      "Cost:  26.567666282798406\n",
      "Cost:  26.5488922047682\n",
      "Cost:  26.531427484189845\n",
      "Cost:  26.51518388780981\n",
      "Cost:  26.50007903228424\n",
      "Cost:  26.486035999391998\n",
      "Cost:  26.47298297645134\n",
      "Cost:  26.46085292037318\n",
      "Cost:  26.449583243591416\n",
      "Cost:  26.439115520743474\n",
      "Cost:  26.429395214432475\n",
      "Cost:  26.420371419060945\n",
      "Cost:  26.411996621421007\n",
      "Cost:  26.40422647701478\n",
      "Cost:  26.397019600997037\n",
      "Cost:  26.390337372895484\n",
      "Cost:  26.384143754104795\n",
      "Cost:  26.378405117373795\n",
      "Cost:  26.3730900874893\n",
      "Cost:  26.368169392377506\n",
      "Cost:  26.363615724095755\n",
      "Cost:  26.35940360880043\n",
      "Cost:  26.35550928540628\n",
      "Cost:  26.351910592099085\n",
      "Cost:  26.348586860407018\n",
      "Cost:  26.345518816171417\n",
      "Cost:  26.34268848706106\n",
      "Cost:  26.340079116163093\n",
      "Cost:  26.337675081256194\n",
      "Cost:  26.33546181941872\n",
      "Cost:  26.333425756574012\n",
      "Cost:  26.331554241669917\n",
      "Cost:  26.32983548526428\n",
      "Cost:  26.328258502054055\n",
      "Cost:  26.326813057308662\n",
      "Cost:  26.325489616699958\n",
      "Cost:  26.324279299588106\n",
      "Cost:  26.323173835277466\n",
      "Cost:  26.322165522254494\n",
      "Cost:  26.321247190012436\n",
      "Cost:  26.32041216349931\n",
      "Cost:  26.319654229879916\n"
     ]
    },
    {
     "data": {
      "text/plain": [
       "array([-1.6490132 , -0.28056149,  0.50315791, -0.09644199,  0.00286691])"
      ]
     },
     "execution_count": 55,
     "metadata": {},
     "output_type": "execute_result"
    }
   ],
   "source": [
    "#gradient descent\n",
    "def gradient_descent(X_train,y_train,learning_rate,iteration):\n",
    "    m = np.zeros((X_train.shape[1]))\n",
    "#     m[data.shape[1]-1] = 1\n",
    "    for i in range(iteration):\n",
    "        m = step_gradient(X_train,y_train,m,learning_rate)\n",
    "        print(\"Cost: \",cost_function(X_train,y_train,m))\n",
    "    return m\n",
    "m = gradient_descent(X_train.values,y_train.values,0.000000501,100)\n",
    "m\n"
   ]
  },
  {
   "cell_type": "code",
   "execution_count": null,
   "metadata": {},
   "outputs": [],
   "source": []
  },
  {
   "cell_type": "code",
   "execution_count": 57,
   "metadata": {},
   "outputs": [
    {
     "name": "stdout",
     "output_type": "stream",
     "text": [
      "[471.74297211 471.02526715 432.96734674 ... 440.18122705 453.14288186\n",
      " 451.70532584]\n"
     ]
    }
   ],
   "source": [
    "def predict(m,X_test):\n",
    "    y_pred = np.zeros(len(X_test))\n",
    "    for i in range(len(X_test)):\n",
    "        y_pred[i] = (m*X_test[i]).sum()\n",
    "    return y_pred\n",
    "y_pred = predict(m,X_test.values)\n",
    "print(y_pred)\n",
    "np.savetxt(\"y_pred_combined_cycle_power_plant.csv\",y_pred)"
   ]
  }
 ],
 "metadata": {
  "kernelspec": {
   "display_name": "Python 3",
   "language": "python",
   "name": "python3"
  },
  "language_info": {
   "codemirror_mode": {
    "name": "ipython",
    "version": 3
   },
   "file_extension": ".py",
   "mimetype": "text/x-python",
   "name": "python",
   "nbconvert_exporter": "python",
   "pygments_lexer": "ipython3",
   "version": "3.7.6"
  }
 },
 "nbformat": 4,
 "nbformat_minor": 4
}
