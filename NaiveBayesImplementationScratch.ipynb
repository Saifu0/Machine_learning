{
 "cells": [
  {
   "cell_type": "code",
   "execution_count": 1,
   "metadata": {},
   "outputs": [],
   "source": [
    "import numpy as np"
   ]
  },
  {
   "cell_type": "code",
   "execution_count": 17,
   "metadata": {},
   "outputs": [],
   "source": [
    "def fit(X_train,y_train):\n",
    "    result = {}\n",
    "    y_classes = set(y_train)\n",
    "    for y_class in y_classes:\n",
    "        result[y_class] = {}\n",
    "        result[\"total_data\"] = len(y_train)\n",
    "        y_class_rows = (y_train==y_class)\n",
    "        X_train_y_class = X_train[y_class_rows]\n",
    "        Y_train_y_class = y_train[y_class_rows]\n",
    "        features = X_train.shape[1]\n",
    "        result[y_class][\"total_count\"] = len(Y_train_y_class) \n",
    "        for ith_feature in range(features):\n",
    "            result[y_class][ith_feature+1] = {}\n",
    "            ith_feature_label = set(X_train[:,ith_feature])\n",
    "            for current_label in ith_feature_label:\n",
    "                result[y_class][ith_feature+1][current_label] = (X_train_y_class[:,ith_feature] == current_label).sum()\n",
    "    return result"
   ]
  },
  {
   "cell_type": "code",
   "execution_count": 26,
   "metadata": {},
   "outputs": [],
   "source": [
    "def probability(result,x,class_):\n",
    "#     '''\n",
    "#     changing probalitiy into log probability to prevent 0 after multipying output*current_prob because\n",
    "#     multiplying these small value may leads to 0 and we don't want this.\n",
    "#     so, a/b changes to loga-logb and a*b changes to loga + logb\n",
    "#     '''\n",
    "#     print(\"class is \",class_)\n",
    "    out = np.log(result[class_][\"total_count\"])-np.log(result[\"total_data\"])\n",
    "    num_features = len(result[class_].keys())-1\n",
    "    for ith_feature in range(num_features):\n",
    "        xj = x[ith_feature] #xj is label of ith_feature\n",
    "        cnt_current_class_with_value_xj = result[class_][ith_feature+1][xj]+1\n",
    "        cnt_current_class = result[class_][\"total_count\"]+len(result[class_][ith_feature+1].keys()) # P(y==ai)\n",
    "        current_prob = np.log(cnt_current_class_with_value_xj)-np.log(cnt_current_class) # P(Xj=xj/y=ai)\n",
    "        out = out+current_prob\n",
    "    return out"
   ]
  },
  {
   "cell_type": "code",
   "execution_count": 24,
   "metadata": {},
   "outputs": [],
   "source": [
    "def step_prediction(result,X):\n",
    "    classes = result.keys()\n",
    "    best_prob = -1\n",
    "    best_class = -1\n",
    "    ok = True\n",
    "    for class_ in classes:\n",
    "        if class_ == \"total_data\":\n",
    "            continue\n",
    "        class_prob = probability(result,X,class_)\n",
    "        if (class_prob > best_prob or ok):\n",
    "            best_prob = class_prob\n",
    "            best_class = class_\n",
    "        ok = False\n",
    "    return best_class"
   ]
  },
  {
   "cell_type": "code",
   "execution_count": 5,
   "metadata": {},
   "outputs": [],
   "source": [
    "def predict(result,X_test):\n",
    "    y_pred = []\n",
    "    for each in X_test:\n",
    "        each_predict = step_prediction(result,each)\n",
    "        y_pred.append(each_predict)\n",
    "    return y_pred"
   ]
  },
  {
   "cell_type": "code",
   "execution_count": 6,
   "metadata": {},
   "outputs": [],
   "source": [
    "def make_labelled(column):\n",
    "    second_limit = column.mean()\n",
    "    first_limit = 0.5*second_limit\n",
    "    third_limit = 1.5*second_limit\n",
    "    for i in range(len(column)):\n",
    "        if first_limit > column[i]:\n",
    "            column[i] = 0\n",
    "        elif column[i] < second_limit:\n",
    "            column[i] = 1\n",
    "        elif column[i] < third_limit:\n",
    "            column[i] = 2\n",
    "        else:\n",
    "            column[i] = 3\n",
    "    return column"
   ]
  },
  {
   "cell_type": "code",
   "execution_count": 7,
   "metadata": {},
   "outputs": [],
   "source": [
    "from sklearn import datasets\n",
    "iris = datasets.load_iris()\n",
    "X = iris.data\n",
    "y = iris.target"
   ]
  },
  {
   "cell_type": "code",
   "execution_count": 21,
   "metadata": {},
   "outputs": [
    {
     "name": "stdout",
     "output_type": "stream",
     "text": [
      "(150, 4)\n",
      "(150,)\n"
     ]
    }
   ],
   "source": [
    "print(X.shape)\n",
    "print(y.shape)"
   ]
  },
  {
   "cell_type": "code",
   "execution_count": 8,
   "metadata": {},
   "outputs": [],
   "source": [
    "for i in range(X.shape[1]):\n",
    "    X[:,i] = make_labelled(X[:,i])"
   ]
  },
  {
   "cell_type": "code",
   "execution_count": 9,
   "metadata": {},
   "outputs": [],
   "source": [
    "from sklearn.model_selection import train_test_split\n",
    "X_train,X_test,y_train,y_test = train_test_split(X,y,test_size=0.25)"
   ]
  },
  {
   "cell_type": "code",
   "execution_count": 29,
   "metadata": {},
   "outputs": [
    {
     "name": "stdout",
     "output_type": "stream",
     "text": [
      "{0: {'total_count': 35, 1: {1.0: 35, 2.0: 0}, 2: {1.0: 7, 2.0: 28}, 3: {0.0: 33, 1.0: 2, 2.0: 0, 3.0: 0}, 4: {0.0: 34, 1.0: 1, 2.0: 0, 3.0: 0}}, 'total_data': 112, 1: {'total_count': 40, 1: {1.0: 19, 2.0: 21}, 2: {1.0: 33, 2.0: 7}, 3: {0.0: 0, 1.0: 6, 2.0: 34, 3.0: 0}, 4: {0.0: 0, 1.0: 9, 2.0: 30, 3.0: 1}}, 2: {'total_count': 37, 1: {1.0: 6, 2.0: 31}, 2: {1.0: 28, 2.0: 9}, 3: {0.0: 0, 1.0: 0, 2.0: 23, 3.0: 14}, 4: {0.0: 0, 1.0: 0, 2.0: 2, 3.0: 35}}}\n"
     ]
    }
   ],
   "source": [
    "result = fit(X_train,y_train)\n",
    "print(result)\n",
    "y_pred = predict(result,X_test)"
   ]
  },
  {
   "cell_type": "code",
   "execution_count": 30,
   "metadata": {},
   "outputs": [
    {
     "name": "stdout",
     "output_type": "stream",
     "text": [
      "              precision    recall  f1-score   support\n",
      "\n",
      "           0       1.00      1.00      1.00        15\n",
      "           1       0.77      1.00      0.87        10\n",
      "           2       1.00      0.77      0.87        13\n",
      "\n",
      "    accuracy                           0.92        38\n",
      "   macro avg       0.92      0.92      0.91        38\n",
      "weighted avg       0.94      0.92      0.92        38\n",
      "\n",
      "[[15  0  0]\n",
      " [ 0 10  0]\n",
      " [ 0  3 10]]\n"
     ]
    }
   ],
   "source": [
    "from sklearn.metrics import classification_report, confusion_matrix\n",
    "print(classification_report(y_test,y_pred))\n",
    "print(confusion_matrix(y_test,y_pred))"
   ]
  }
 ],
 "metadata": {
  "kernelspec": {
   "display_name": "Python 3",
   "language": "python",
   "name": "python3"
  },
  "language_info": {
   "codemirror_mode": {
    "name": "ipython",
    "version": 3
   },
   "file_extension": ".py",
   "mimetype": "text/x-python",
   "name": "python",
   "nbconvert_exporter": "python",
   "pygments_lexer": "ipython3",
   "version": "3.7.6"
  }
 },
 "nbformat": 4,
 "nbformat_minor": 4
}
