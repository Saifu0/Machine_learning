{
 "cells": [
  {
   "cell_type": "code",
   "execution_count": 28,
   "metadata": {},
   "outputs": [],
   "source": [
    "import pandas as pd\n",
    "import numpy as np\n",
    "import sklearn\n",
    "from sklearn import datasets\n",
    "\n",
    "X_train = np.array([0, 1, 2, 3, 4, 5, 6, 7, 8, 9]) \n",
    "y_train = np.array([1, 3, 2, 5, 7, 8, 8, 9, 10, 12]) \n",
    "\n",
    "X_test = np.array([2,3,4])\n",
    "y_test = np.array([3,4,6])"
   ]
  },
  {
   "cell_type": "code",
   "execution_count": 30,
   "metadata": {},
   "outputs": [],
   "source": [
    "def fit(x,y):\n",
    "    num = (x*y).mean() - x.mean()*y.mean()\n",
    "    deno = (x*x).mean() - x.mean()*x.mean()\n",
    "    m = num/deno\n",
    "    c = y.mean() - m*x.mean()\n",
    "    return m,c"
   ]
  },
  {
   "cell_type": "code",
   "execution_count": 29,
   "metadata": {},
   "outputs": [],
   "source": [
    "def predict(x,m,c):\n",
    "    return m*x+c"
   ]
  },
  {
   "cell_type": "code",
   "execution_count": 31,
   "metadata": {},
   "outputs": [],
   "source": [
    "def score(y_pred,y_real):\n",
    "    u = sum((y_real-y_pred)**2)\n",
    "    v = sum((y_real-y_real.mean())**2)\n",
    "    return (1-u/v)"
   ]
  },
  {
   "cell_type": "code",
   "execution_count": 39,
   "metadata": {},
   "outputs": [
    {
     "name": "stdout",
     "output_type": "stream",
     "text": [
      "M ,C :  1.1696969696969695 1.2363636363636372\n",
      "Score:  0.8083431719795353\n"
     ]
    }
   ],
   "source": [
    "m,c=fit(X_train,y_train)\n",
    "y_pred = predict(X_test,m,c)\n",
    "acc = score(y_pred,y_test)\n",
    "print(\"M ,C : \",m,c)\n",
    "print(\"Score: \",acc)"
   ]
  },
  {
   "cell_type": "code",
   "execution_count": null,
   "metadata": {},
   "outputs": [],
   "source": []
  },
  {
   "cell_type": "code",
   "execution_count": 51,
   "metadata": {},
   "outputs": [
    {
     "data": {
      "image/png": "[encoded data removed]",
      "text/plain": [
       "<Figure size 432x288 with 1 Axes>"
      ]
     },
     "metadata": {
      "needs_background": "light"
     },
     "output_type": "display_data"
    }
   ],
   "source": [
    "import matplotlib.pyplot as plt\n",
    "plt.plot(X_test,y_test,\"b\")\n",
    "plt.plot(X_test,y_pred,\"r\")\n",
    "plt.show()"
   ]
  }
 ],
 "metadata": {
  "kernelspec": {
   "display_name": "Python 3",
   "language": "python",
   "name": "python3"
  },
  "language_info": {
   "codemirror_mode": {
    "name": "ipython",
    "version": 3
   },
   "file_extension": ".py",
   "mimetype": "text/x-python",
   "name": "python",
   "nbconvert_exporter": "python",
   "pygments_lexer": "ipython3",
   "version": "3.7.6"
  }
 },
 "nbformat": 4,
 "nbformat_minor": 4
}
